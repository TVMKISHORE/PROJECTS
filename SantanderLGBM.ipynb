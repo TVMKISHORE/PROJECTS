{
 "cells": [
  {
   "cell_type": "code",
   "execution_count": 31,
   "metadata": {},
   "outputs": [],
   "source": [
    "import numpy as np # linear algebra\n",
    "import pandas as pd # data processing, CSV file I/O (e.g. pd.read_csv)\n",
    "import lightgbm as lgb\n",
    "from sklearn.metrics import roc_auc_score\n",
    "from sklearn.model_selection import StratifiedKFold\n",
    "from sklearn.utils.random import sample_without_replacement\n",
    "import os\n",
    "os.chdir(\"D:\\Kaggle\\Santander\")\n",
    "#print(os.listdir(\"../input\"))\n",
    "import sys"
   ]
  },
  {
   "cell_type": "code",
   "execution_count": 21,
   "metadata": {},
   "outputs": [
    {
     "name": "stdout",
     "output_type": "stream",
     "text": [
      "Let me do this real quick! \n"
     ]
    }
   ],
   "source": [
    "sys.stdout.write('Let me do this real quick! \\n')\n",
    "train_df = pd.read_csv('train.csv')\n",
    "#train_Idx=sample_without_replacement(train.shape[0],20000)\n",
    "#train_df=train.loc[train_Idx,:]"
   ]
  },
  {
   "cell_type": "code",
   "execution_count": 22,
   "metadata": {},
   "outputs": [],
   "source": [
    "test = pd.read_csv('test.csv') \n",
    "test_Idx=sample_without_replacement(test.shape[0],10000)\n",
    "test_df=test.loc[test_Idx,:]"
   ]
  },
  {
   "cell_type": "code",
   "execution_count": 23,
   "metadata": {},
   "outputs": [],
   "source": [
    "varimp=pd.read_csv('impvar.csv')"
   ]
  },
  {
   "cell_type": "code",
   "execution_count": 24,
   "metadata": {},
   "outputs": [],
   "source": [
    "#features = [c for c in train_df.columns if c not in ['ID_code', 'target']]\n",
    "features = varimp.variable[0:150]\n",
    "target = train_df['target']\n",
    "param = {\n",
    "    'bagging_freq': 5,          'bagging_fraction': 0.38,   'boost_from_average':'false',   'boost': 'rf',\n",
    "    'feature_fraction': 0.045,   'learning_rate': 0.01,     'max_depth': -1,                'metric':'auc',\n",
    "    'min_data_in_leaf': 80,     'min_sum_hessian_in_leaf': 10.0,'num_leaves': 13,           'num_threads': 8,\n",
    "    'tree_learner': 'serial',   'objective': 'binary',      'verbosity': 1\n",
    "}\n",
    "\n",
    "folds = StratifiedKFold(n_splits=2, shuffle=False, random_state=44000)\n",
    "oof = np.zeros(len(train_df))\n",
    "predictions = np.zeros(len(test_df))"
   ]
  },
  {
   "cell_type": "code",
   "execution_count": 25,
   "metadata": {},
   "outputs": [
    {
     "name": "stdout",
     "output_type": "stream",
     "text": [
      "Fold :1\n",
      "Training until validation scores don't improve for 1000 rounds.\n",
      "[1000]\ttraining's auc: 0.903908\tvalid_1's auc: 0.877582\n",
      "[2000]\ttraining's auc: 0.906179\tvalid_1's auc: 0.879468\n",
      "[3000]\ttraining's auc: 0.906979\tvalid_1's auc: 0.880184\n",
      "[4000]\ttraining's auc: 0.907457\tvalid_1's auc: 0.880633\n",
      "[5000]\ttraining's auc: 0.907521\tvalid_1's auc: 0.880727\n",
      "[6000]\ttraining's auc: 0.907648\tvalid_1's auc: 0.880837\n",
      "[7000]\ttraining's auc: 0.908025\tvalid_1's auc: 0.881088\n",
      "[8000]\ttraining's auc: 0.908138\tvalid_1's auc: 0.881233\n",
      "Early stopping, best iteration is:\n",
      "[7745]\ttraining's auc: 0.908194\tvalid_1's auc: 0.881287\n",
      "Fold :2\n",
      "Training until validation scores don't improve for 1000 rounds.\n",
      "[1000]\ttraining's auc: 0.900593\tvalid_1's auc: 0.881014\n",
      "[2000]\ttraining's auc: 0.902787\tvalid_1's auc: 0.883179\n",
      "[3000]\ttraining's auc: 0.903397\tvalid_1's auc: 0.884009\n",
      "[4000]\ttraining's auc: 0.903737\tvalid_1's auc: 0.88448\n",
      "Early stopping, best iteration is:\n",
      "[3952]\ttraining's auc: 0.903774\tvalid_1's auc: 0.884554\n",
      "CV score: 0.88292 CV score: 0.88292 \n"
     ]
    }
   ],
   "source": [
    "for fold_, (trn_idx, val_idx) in enumerate(folds.split(train_df.values, target.values)):\n",
    "    print(\"Fold :{}\".format(fold_ + 1))\n",
    "    trn_data = lgb.Dataset(train_df.iloc[trn_idx][features], label=target.iloc[trn_idx])\n",
    "    val_data = lgb.Dataset(train_df.iloc[val_idx][features], label=target.iloc[val_idx])\n",
    "    clf = lgb.train(param, trn_data, 100000, valid_sets = [trn_data, val_data], verbose_eval=1000, early_stopping_rounds = 1000)\n",
    "    oof[val_idx] = clf.predict(train_df.iloc[val_idx][features], num_iteration=clf.best_iteration)\n",
    "    predictions += clf.predict(test_df[features], num_iteration=clf.best_iteration) / folds.n_splits\n",
    "sys.stdout.write(\"CV score: {:<8.5f}\".format(roc_auc_score(target, oof)))\n",
    "print(\"CV score: {:<8.5f}\".format(roc_auc_score(target, oof)))\n",
    "\n",
    "sub = pd.DataFrame({\"ID_code\": test_df.ID_code.values})\n",
    "sub[\"target\"] = predictions\n",
    "sub.to_csv('submission.csv', index=False)"
   ]
  },
  {
   "cell_type": "code",
   "execution_count": 30,
   "metadata": {},
   "outputs": [
    {
     "data": {
      "text/plain": [
       "<lightgbm.basic.Booster at 0x2176addc198>"
      ]
     },
     "execution_count": 30,
     "metadata": {},
     "output_type": "execute_result"
    }
   ],
   "source": [
    "#save Model\n",
    "clf.save_model('lcf_model.txt')"
   ]
  },
  {
   "cell_type": "code",
   "execution_count": 32,
   "metadata": {},
   "outputs": [],
   "source": [
    "#load model\n",
    "clf = lgb.Booster(model_file='lcf_model.txt')"
   ]
  }
 ],
 "metadata": {
  "kernelspec": {
   "display_name": "Python 3",
   "language": "python",
   "name": "python3"
  },
  "language_info": {
   "codemirror_mode": {
    "name": "ipython",
    "version": 3
   },
   "file_extension": ".py",
   "mimetype": "text/x-python",
   "name": "python",
   "nbconvert_exporter": "python",
   "pygments_lexer": "ipython3",
   "version": "3.6.2"
  }
 },
 "nbformat": 4,
 "nbformat_minor": 2
}
